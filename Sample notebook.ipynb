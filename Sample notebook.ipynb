{
 "cells": [
  {
   "cell_type": "markdown",
   "id": "6a59701e",
   "metadata": {},
   "source": [
    "# My notebook\n",
    "\n",
    "## Some subtitle\n",
    "\n",
    "I'm showing you how to use notebooks"
   ]
  },
  {
   "cell_type": "markdown",
   "id": "9eb182d1",
   "metadata": {},
   "source": [
    "### Variables"
   ]
  },
  {
   "cell_type": "code",
   "execution_count": 1,
   "id": "4235e3e3",
   "metadata": {},
   "outputs": [
    {
     "name": "stdout",
     "output_type": "stream",
     "text": [
      "13\n"
     ]
    }
   ],
   "source": [
    "my_var = 10\n",
    "my_var += 3\n",
    "print(my_var)"
   ]
  },
  {
   "cell_type": "markdown",
   "id": "d627740c",
   "metadata": {},
   "source": [
    "### Functions"
   ]
  },
  {
   "cell_type": "code",
   "execution_count": 2,
   "id": "15646f84",
   "metadata": {},
   "outputs": [
    {
     "data": {
      "text/plain": [
       "5"
      ]
     },
     "execution_count": 2,
     "metadata": {},
     "output_type": "execute_result"
    }
   ],
   "source": [
    "def my_func(n1, n2):\n",
    "    return n1 + n2\n",
    "\n",
    "my_func(2, 3)"
   ]
  },
  {
   "cell_type": "code",
   "execution_count": null,
   "id": "7e36aa85",
   "metadata": {},
   "outputs": [],
   "source": []
  }
 ],
 "metadata": {
  "kernelspec": {
   "display_name": "Python 3",
   "language": "python",
   "name": "python3"
  },
  "language_info": {
   "codemirror_mode": {
    "name": "ipython",
    "version": 3
   },
   "file_extension": ".py",
   "mimetype": "text/x-python",
   "name": "python",
   "nbconvert_exporter": "python",
   "pygments_lexer": "ipython3",
   "version": "3.8.2"
  }
 },
 "nbformat": 4,
 "nbformat_minor": 5
}
